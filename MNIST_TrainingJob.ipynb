{
 "cells": [
  {
   "attachments": {},
   "cell_type": "markdown",
   "id": "6ac8ea04",
   "metadata": {},
   "source": [
    "# MNIST Lightning training - Amazon SageMaker Training Job\n",
    "\n",
    "\n",
    "Train a MNIST classification model created using Pytorch Lightning and logging the training, validation, and test metrics using Amazon SageMaker Experiments.\n",
    "\n",
    "\n",
    "---\n",
    "This notebook has been designed to work in Amazon SageMaker Studio with `Python 3 (PyTorch 1.12 Python 3.8 CPU Optimized)`.\n",
    "\n",
    "---\n",
    "\n",
    "In this notebook there are two examples:\n",
    "- training on a single GPU on a `ml.g4dn.xlarge` instance\n",
    "- training on a 4 GPU on a `ml.g4dn.12xlarge` instance"
   ]
  },
  {
   "cell_type": "code",
   "execution_count": null,
   "id": "2284686f-61a4-4f0c-8f6a-126daa922030",
   "metadata": {},
   "outputs": [],
   "source": [
    "import sagemaker\n",
    "from sagemaker.experiments import Run\n",
    "from sagemaker.pytorch import PyTorch\n",
    "from sagemaker.utils import name_from_base"
   ]
  },
  {
   "attachments": {},
   "cell_type": "markdown",
   "id": "426d08d0",
   "metadata": {},
   "source": [
    "Definitions and objects necessary for running the Training Job."
   ]
  },
  {
   "cell_type": "code",
   "execution_count": null,
   "id": "33c5b93b",
   "metadata": {},
   "outputs": [],
   "source": [
    "sagemaker_session = sagemaker.Session()\n",
    "role = sagemaker.get_execution_role()\n",
    "prefix = \"pytorch-demo-mnist\"\n",
    "bucket = sagemaker_session.default_bucket()"
   ]
  },
  {
   "attachments": {},
   "cell_type": "markdown",
   "id": "5c79fefe",
   "metadata": {},
   "source": [
    "## Training Job with single GPU\n",
    "\n",
    "The Model and DataModule are defined in the `mnist_pl.py` and `data_modules.py` scripts in the `code` folder.  \n",
    "To simplify the logging of the metrics and artifacts to [SageMaker Experiments](https://docs.aws.amazon.com/sagemaker/latest/dg/experiments.html) within the Lightning training look, there's a Lightning [Logger](https://pytorch-lightning.readthedocs.io/en/latest/extensions/logging.html#make-a-custom-logger) in `code/sm_experiments.py`."
   ]
  },
  {
   "cell_type": "code",
   "execution_count": null,
   "id": "d8a27b13",
   "metadata": {},
   "outputs": [],
   "source": [
    "with Run(\n",
    "    experiment_name=\"pytorch-demo-mnist\",\n",
    "    run_name=name_from_base(\"1x1-gpu\"),\n",
    ") as run:\n",
    "    estimator = PyTorch(\n",
    "        entry_point=\"mnist_pl.py\",\n",
    "        base_job_name=\"lightning-mnist\",\n",
    "        role=role,\n",
    "        source_dir=\"code\",\n",
    "        instance_count=1,\n",
    "        instance_type=\"ml.g4dn.xlarge\",\n",
    "        py_version=\"py38\",\n",
    "        framework_version=\"1.12.1\",\n",
    "        output_path=f\"s3://{bucket}/{prefix}\",\n",
    "        sagemaker_session=sagemaker_session,\n",
    "        # distribution={\"pytorchddp\": {\"enabled\": True}}, # works with or without\n",
    "        debugger_hook_config=False,\n",
    "        hyperparameters={\"batch_size\": 512, \"epochs\": 20},  # type: ignore\n",
    "        # keep_alive_period_in_seconds=20 * 60, \n",
    "    )\n",
    "\n",
    "    estimator.fit(wait=False)"
   ]
  },
  {
   "attachments": {},
   "cell_type": "markdown",
   "id": "5c79fefe",
   "metadata": {},
   "source": [
    "## Training Job with multiple GPUs on the same instance"
   ]
  },
  {
   "cell_type": "code",
   "execution_count": null,
   "id": "d8a27b13",
   "metadata": {},
   "outputs": [],
   "source": [
    "with Run(\n",
    "    experiment_name=\"pytorch-demo-mnist\",\n",
    "    run_name=name_from_base(\"1x4-gpu\"),\n",
    "    sagemaker_session=sagemaker_session,\n",
    ") as run:\n",
    "    estimator = PyTorch(\n",
    "        entry_point=\"mnist_pl.py\",\n",
    "        base_job_name=\"lightning-mnist\",\n",
    "        role=role,\n",
    "        source_dir=\"code\",\n",
    "        instance_count=1,\n",
    "        instance_type=\"ml.g4dn.12xlarge\",\n",
    "        py_version=\"py38\",\n",
    "        framework_version=\"1.12.1\",\n",
    "        output_path=f\"s3://{bucket}/{prefix}\",\n",
    "        sagemaker_session=sagemaker_session,\n",
    "        # distribution={\"pytorchddp\": {\"enabled\": True}}, # works with or without\n",
    "        debugger_hook_config=False,\n",
    "        hyperparameters={\"batch_size\": 512, \"epochs\": 20},  # type: ignore\n",
    "        # keep_alive_period_in_seconds=20 * 60,\n",
    "    )\n",
    "\n",
    "    estimator.fit(wait=False)"
   ]
  },
  {
   "attachments": {},
   "cell_type": "markdown",
   "id": "ed822fa9",
   "metadata": {},
   "source": [
    "## Review the tracked metrics"
   ]
  },
  {
   "attachments": {},
   "cell_type": "markdown",
   "id": "1d2bfc79",
   "metadata": {},
   "source": [
    "After each training job is complete, the training, validation, and testing should be recorded as `Run`  within SageMaker experiment `pytorch-demo-mnist`. The run should also include a confusion matrix in the _chart_ tab  \n",
    " ![screen shot of confusion matrix](images/conf_mat.png)\n"
   ]
  }
 ],
 "metadata": {
  "kernelspec": {
   "display_name": ".venv",
   "language": "python",
   "name": "python3"
  },
  "language_info": {
   "codemirror_mode": {
    "name": "ipython",
    "version": 3
   },
   "file_extension": ".py",
   "mimetype": "text/x-python",
   "name": "python",
   "nbconvert_exporter": "python",
   "pygments_lexer": "ipython3",
   "version": "3.10.9"
  },
  "vscode": {
   "interpreter": {
    "hash": "5ab638aa00986aa0e6a7cdada5cec29e56efe27f3c426a028b4e96530cb216ba"
   }
  }
 },
 "nbformat": 4,
 "nbformat_minor": 5
}

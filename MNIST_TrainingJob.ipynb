{
 "cells": [
  {
   "cell_type": "markdown",
   "id": "6ac8ea04",
   "metadata": {},
   "source": [
    "# MNIST Lightning training - Amazon SageMaker Training Job\n",
    "\n",
    "\n",
    "Train a MNIST classification model created using Pytorch Lightning and logging the training, validation, and test metrics using Amazon SageMaker Experiments.\n",
    "\n",
    "\n",
    "---\n",
    "This notebook has been designed to work in Amazon SageMaker Studio with `Python 3 (PyTorch 1.12 Python 3.8 CPU Optimized)`.\n",
    "\n",
    "---\n",
    "\n",
    "In this notebook there are two examples:\n",
    "- training on a single GPU on a `ml.g4dn.xlarge` instance\n",
    "- training on a 4 GPU on a `ml.g4dn.12xlarge` instance"
   ]
  },
  {
   "cell_type": "markdown",
   "id": "ed3ddd78-eb38-47cb-8d80-230649b3d508",
   "metadata": {},
   "source": [
    "#### Install and update libraries\n",
    "This notebook requires a version of SageMaker Python SDK greater than 2.123.0 to be able to use the [recently released new capabilities of SageMaker Experiments](https://aws.amazon.com/about-aws/whats-new/2022/12/amazon-sagemaker-experiments-ml-experiment-management-diverse-ides/)."
   ]
  },
  {
   "cell_type": "code",
   "execution_count": null,
   "id": "b991456a-4f06-43fb-8c13-0769013858d6",
   "metadata": {
    "tags": []
   },
   "outputs": [],
   "source": [
    "%%capture\n",
    "%pip install -U \"sagemaker >= 2.123.0\""
   ]
  },
  {
   "cell_type": "code",
   "execution_count": null,
   "id": "2284686f-61a4-4f0c-8f6a-126daa922030",
   "metadata": {},
   "outputs": [],
   "source": [
    "import sagemaker\n",
    "from sagemaker.debugger import (\n",
    "    DebuggerHookConfig,\n",
    "    ProfilerRule,\n",
    "    Rule,\n",
    "    TensorBoardOutputConfig,\n",
    "    rule_configs,\n",
    ")\n",
    "from sagemaker.experiments import Run\n",
    "from sagemaker.pytorch import PyTorch\n",
    "from sagemaker.utils import name_from_base\n",
    "from torchvision.datasets import MNIST"
   ]
  },
  {
   "cell_type": "markdown",
   "id": "426d08d0",
   "metadata": {},
   "source": [
    "Definitions and objects necessary for running the Training Job."
   ]
  },
  {
   "cell_type": "code",
   "execution_count": null,
   "id": "33c5b93b",
   "metadata": {},
   "outputs": [],
   "source": [
    "sagemaker_session = sagemaker.Session()\n",
    "role = sagemaker.get_execution_role()\n",
    "\n",
    "prefix = \"pytorch-demo-mnist\"\n",
    "bucket = sagemaker_session.default_bucket()"
   ]
  },
  {
   "cell_type": "markdown",
   "id": "fe465f9d-ad18-40ba-b2cc-324304bf0aa7",
   "metadata": {},
   "source": [
    "## Upload datasets\n",
    "\n",
    "All training jobs in this sample use the same dataset. Instead of downloading it from the public repository for every training job, we'll upload a copy to S3 and then use [FastFile mode](https://docs.aws.amazon.com/sagemaker/latest/dg/model-access-training-data.html) to serve the data to the training job."
   ]
  },
  {
   "cell_type": "code",
   "execution_count": null,
   "id": "179a98f0-556e-4aa2-b1bf-25b22bf46ecf",
   "metadata": {
    "tags": []
   },
   "outputs": [],
   "source": [
    "MNIST.mirrors = [\"https://sagemaker-sample-files.s3.amazonaws.com/datasets/image/MNIST/\"]\n",
    "\n",
    "MNIST(\"data\", download=True)"
   ]
  },
  {
   "cell_type": "code",
   "execution_count": null,
   "id": "1069de4f-c78e-4302-90e7-11cfdeae34d0",
   "metadata": {
    "tags": []
   },
   "outputs": [],
   "source": [
    "data_s3_uri = sagemaker_session.upload_data(\n",
    "    \"data\",\n",
    "    bucket=bucket,\n",
    "    key_prefix=f\"{prefix}/MNIST-data\",\n",
    ")"
   ]
  },
  {
   "cell_type": "markdown",
   "id": "a0c8637d-5bc6-4af8-8cc7-76d1d472e4fa",
   "metadata": {},
   "source": [
    "We'll then pass this dictionary to the `fit()` function to tell SageMaker were to find the training and testing data. In this case, they two data channel will point at the same S3 prefix, but in general they file organization might be different."
   ]
  },
  {
   "cell_type": "code",
   "execution_count": null,
   "id": "73cf8b13-0492-4772-8442-9aec0cf6bddd",
   "metadata": {
    "tags": []
   },
   "outputs": [],
   "source": [
    "fit_inputs = {\"train\": data_s3_uri, \"test\": data_s3_uri}"
   ]
  },
  {
   "cell_type": "markdown",
   "id": "3130d82b-37f7-405c-87bf-4eef59d1f431",
   "metadata": {},
   "source": [
    "## Configure profiling rules\n",
    "During the training we'll use [SageMaker Debugger](https://docs.aws.amazon.com/sagemaker/latest/dg/train-debugger.html) to monitor the training process, and log tensor and scalar outputs. We also include some automatic auditing of the training process, leveraging few of the most common built-in debugger rules.  \n",
    "With SageMaker debugger, we can configure the hook that capture the data from the Training Job definition. We will also indicate the S3 prefix where to store the tensorflow-compatible outputs.\n"
   ]
  },
  {
   "cell_type": "code",
   "execution_count": null,
   "id": "69d24ef7-eb54-4e42-8044-4798531cd5b1",
   "metadata": {
    "tags": []
   },
   "outputs": [],
   "source": [
    "hook_config = DebuggerHookConfig(\n",
    "    hook_parameters={\n",
    "        \"train.save_interval\": \"100\",\n",
    "        \"eval.save_interval\": \"10\",\n",
    "    }\n",
    ")\n",
    "\n",
    "tensorboard_output_config = TensorBoardOutputConfig(\n",
    "    s3_output_path=f\"s3://{bucket}/{prefix}/tensorboard\"\n",
    ")\n",
    "\n",
    "rules = [\n",
    "    Rule.sagemaker(rule_configs.vanishing_gradient()),\n",
    "    Rule.sagemaker(rule_configs.overfit()),\n",
    "    Rule.sagemaker(rule_configs.overtraining()),\n",
    "    Rule.sagemaker(rule_configs.poor_weight_initialization()),\n",
    "]"
   ]
  },
  {
   "cell_type": "markdown",
   "id": "5c79fefe",
   "metadata": {},
   "source": [
    "## Training Job with single GPU\n",
    "\n",
    "The code we'll use for the training job is in the `code` folder.\n",
    "- `mnist_pl.py` is the entry point script, it will be executed by the training job.\n",
    "- `requirements.txt` we included the libraries not already present in the training image.\n",
    "- `models.py` and `data_modules.py` container the Lightning modules for the model and data. they can easily be replaced with more complex models of your choice. To make integration with the SageMaker training easier, the scripts are designed to allow setting of the hyperparameters from the CLI, following the [recommended best practices](https://pytorch-lightning.readthedocs.io/en/stable/common/hyperparameters.html). \n",
    "- `sm_utils_functions.py` is a collection of convenience functions for integrating the training script with SageMaker Training.\n",
    "- `sm_logger.py` provides a [Lightning Logger](https://pytorch-lightning.readthedocs.io/en/latest/extensions/logging.html#make-a-custom-logger) to integrate the training process with [SageMaker Experiments](https://docs.aws.amazon.com/sagemaker/latest/dg/experiments.html) with minimal code changes.\n",
    "- `sm_debug_callback.py` provides a Lightning Callback to capture tensors and metrics using SageMaker Debugger.\n",
    "\n",
    "\n",
    "We define the experiment name and the name of the experimental run, then define a PyTorch Estimator, and then start the training job."
   ]
  },
  {
   "cell_type": "code",
   "execution_count": null,
   "id": "d8a27b13",
   "metadata": {},
   "outputs": [],
   "source": [
    "with Run(\n",
    "    experiment_name=\"pytorch-demo-mnist\",\n",
    "    run_name=name_from_base(\"1x1-gpu-ff\"),\n",
    ") as run:\n",
    "    estimator = PyTorch(\n",
    "        entry_point=\"mnist_pl.py\",\n",
    "        base_job_name=\"lightning-mnist-1x1\",\n",
    "        role=role,\n",
    "        source_dir=\"code\",\n",
    "        instance_count=1,\n",
    "        instance_type=\"ml.g4dn.xlarge\",\n",
    "        py_version=\"py38\",\n",
    "        framework_version=\"1.12.1\",\n",
    "        output_path=f\"s3://{bucket}/{prefix}\",\n",
    "        sagemaker_session=sagemaker_session,\n",
    "        hyperparameters={\"batch_size\": 256, \"epochs\": 20},\n",
    "        rules=rules,\n",
    "        debugger_hook_config=hook_config,\n",
    "        tensorboard_output_config=tensorboard_output_config,\n",
    "        input_mode=\"FastFile\",\n",
    "        # keep_alive_period_in_seconds=20 * 60,  # Warm pool, useful if re-running the same job\n",
    "    )\n",
    "\n",
    "    estimator.fit(inputs=fit_inputs, wait=False)  # Set wait=True to observe the generated logs"
   ]
  },
  {
   "cell_type": "markdown",
   "id": "1c006c56-ce00-488b-8061-9226c042fd81",
   "metadata": {
    "tags": []
   },
   "source": [
    "You can follow the training job progress in multiple ways:\n",
    "- From the [Experiments browser integrated in SageMaker Studio](https://docs.aws.amazon.com/sagemaker/latest/dg/experiments-view-compare.html)\n",
    "- From the Training Job log in CloudWatch \n",
    "- Monitoring the tensors uploaded in real time to `s3://<sagemaker default bucket>/pytorch-demo-mnist/tensorboard` using TensorBoard <sup>[1](#myfootnote1)</sup>"
   ]
  },
  {
   "cell_type": "markdown",
   "id": "3b8b98f1",
   "metadata": {},
   "source": [
    "## Training Job with multiple GPUs on the same instance"
   ]
  },
  {
   "cell_type": "code",
   "execution_count": null,
   "id": "071aafd3",
   "metadata": {},
   "outputs": [],
   "source": [
    "with Run(\n",
    "    experiment_name=\"pytorch-demo-mnist\",\n",
    "    run_name=name_from_base(\"1x4-gpu\"),\n",
    "    sagemaker_session=sagemaker_session,\n",
    ") as run:\n",
    "    estimator = PyTorch(\n",
    "        entry_point=\"mnist_pl.py\",\n",
    "        base_job_name=\"lightning-mnist-1x4\",\n",
    "        role=role,\n",
    "        source_dir=\"code\",\n",
    "        instance_count=1,\n",
    "        instance_type=\"ml.g4dn.12xlarge\",\n",
    "        py_version=\"py38\",\n",
    "        framework_version=\"1.12.1\",\n",
    "        output_path=f\"s3://{bucket}/{prefix}\",\n",
    "        sagemaker_session=sagemaker_session,\n",
    "        hyperparameters={\"batch_size\": 128, \"epochs\": 20},\n",
    "        debugger_hook_config=hook_config,\n",
    "        tensorboard_output_config=tensorboard_output_config,\n",
    "        input_mode=\"FastFile\",\n",
    "        # keep_alive_period_in_seconds=20 * 60,  # Warm pool, useful if re-running the same job\n",
    "    )\n",
    "\n",
    "    estimator.fit(inputs=fit_inputs, wait=False)"
   ]
  },
  {
   "cell_type": "markdown",
   "id": "ed822fa9",
   "metadata": {},
   "source": [
    "## Review the tracked metrics"
   ]
  },
  {
   "cell_type": "markdown",
   "id": "1d2bfc79",
   "metadata": {},
   "source": [
    "After each training job is complete, the training, validation, and testing should be recorded as `Run`  within SageMaker experiment `pytorch-demo-mnist`. The run should also include a confusion matrix in the _chart_ tab  \n",
    " ![screen shot of confusion matrix](images/conf_mat.png)\n"
   ]
  },
  {
   "cell_type": "markdown",
   "id": "15491319-fc22-4a44-971d-cabe959cfce3",
   "metadata": {},
   "source": [
    "## Notes "
   ]
  },
  {
   "cell_type": "markdown",
   "id": "415a5e85-0361-4f7c-9ee4-2eee2c4ed944",
   "metadata": {},
   "source": [
    "<a name=\"myfootnote1\">1</a>: Start Tensorboard in SageMaker Studio\n",
    "- From a _Launcher_ tab open a _System terminal_\n",
    "- Install boto3 and tensorboard using \n",
    "```terminal\n",
    "$ pip install tensorboard boto3\n",
    "```\n",
    "- Launch a tensorboard server using   \n",
    "```terminal\n",
    "$ tensorboard --logdir <S3 location URI where logs are stored>\n",
    "```\n",
    "\n",
    "- After launching a Tensorboard server pointing at the log location, the board will be located at   \n",
    "```\n",
    "https://<domain id>.studio.<AWS region>.sagemaker.aws/jupyter/default/proxy/6006/\n",
    "```  \n",
    "    where `domain id` and `AWS region` are the same ones found in the Studio URL"
   ]
  }
 ],
 "metadata": {
  "availableInstances": [
   {
    "_defaultOrder": 0,
    "_isFastLaunch": true,
    "category": "General purpose",
    "gpuNum": 0,
    "memoryGiB": 4,
    "name": "ml.t3.medium",
    "vcpuNum": 2
   },
   {
    "_defaultOrder": 1,
    "_isFastLaunch": false,
    "category": "General purpose",
    "gpuNum": 0,
    "memoryGiB": 8,
    "name": "ml.t3.large",
    "vcpuNum": 2
   },
   {
    "_defaultOrder": 2,
    "_isFastLaunch": false,
    "category": "General purpose",
    "gpuNum": 0,
    "memoryGiB": 16,
    "name": "ml.t3.xlarge",
    "vcpuNum": 4
   },
   {
    "_defaultOrder": 3,
    "_isFastLaunch": false,
    "category": "General purpose",
    "gpuNum": 0,
    "memoryGiB": 32,
    "name": "ml.t3.2xlarge",
    "vcpuNum": 8
   },
   {
    "_defaultOrder": 4,
    "_isFastLaunch": true,
    "category": "General purpose",
    "gpuNum": 0,
    "memoryGiB": 8,
    "name": "ml.m5.large",
    "vcpuNum": 2
   },
   {
    "_defaultOrder": 5,
    "_isFastLaunch": false,
    "category": "General purpose",
    "gpuNum": 0,
    "memoryGiB": 16,
    "name": "ml.m5.xlarge",
    "vcpuNum": 4
   },
   {
    "_defaultOrder": 6,
    "_isFastLaunch": false,
    "category": "General purpose",
    "gpuNum": 0,
    "memoryGiB": 32,
    "name": "ml.m5.2xlarge",
    "vcpuNum": 8
   },
   {
    "_defaultOrder": 7,
    "_isFastLaunch": false,
    "category": "General purpose",
    "gpuNum": 0,
    "memoryGiB": 64,
    "name": "ml.m5.4xlarge",
    "vcpuNum": 16
   },
   {
    "_defaultOrder": 8,
    "_isFastLaunch": false,
    "category": "General purpose",
    "gpuNum": 0,
    "memoryGiB": 128,
    "name": "ml.m5.8xlarge",
    "vcpuNum": 32
   },
   {
    "_defaultOrder": 9,
    "_isFastLaunch": false,
    "category": "General purpose",
    "gpuNum": 0,
    "memoryGiB": 192,
    "name": "ml.m5.12xlarge",
    "vcpuNum": 48
   },
   {
    "_defaultOrder": 10,
    "_isFastLaunch": false,
    "category": "General purpose",
    "gpuNum": 0,
    "memoryGiB": 256,
    "name": "ml.m5.16xlarge",
    "vcpuNum": 64
   },
   {
    "_defaultOrder": 11,
    "_isFastLaunch": false,
    "category": "General purpose",
    "gpuNum": 0,
    "memoryGiB": 384,
    "name": "ml.m5.24xlarge",
    "vcpuNum": 96
   },
   {
    "_defaultOrder": 12,
    "_isFastLaunch": false,
    "category": "General purpose",
    "gpuNum": 0,
    "memoryGiB": 8,
    "name": "ml.m5d.large",
    "vcpuNum": 2
   },
   {
    "_defaultOrder": 13,
    "_isFastLaunch": false,
    "category": "General purpose",
    "gpuNum": 0,
    "memoryGiB": 16,
    "name": "ml.m5d.xlarge",
    "vcpuNum": 4
   },
   {
    "_defaultOrder": 14,
    "_isFastLaunch": false,
    "category": "General purpose",
    "gpuNum": 0,
    "memoryGiB": 32,
    "name": "ml.m5d.2xlarge",
    "vcpuNum": 8
   },
   {
    "_defaultOrder": 15,
    "_isFastLaunch": false,
    "category": "General purpose",
    "gpuNum": 0,
    "memoryGiB": 64,
    "name": "ml.m5d.4xlarge",
    "vcpuNum": 16
   },
   {
    "_defaultOrder": 16,
    "_isFastLaunch": false,
    "category": "General purpose",
    "gpuNum": 0,
    "memoryGiB": 128,
    "name": "ml.m5d.8xlarge",
    "vcpuNum": 32
   },
   {
    "_defaultOrder": 17,
    "_isFastLaunch": false,
    "category": "General purpose",
    "gpuNum": 0,
    "memoryGiB": 192,
    "name": "ml.m5d.12xlarge",
    "vcpuNum": 48
   },
   {
    "_defaultOrder": 18,
    "_isFastLaunch": false,
    "category": "General purpose",
    "gpuNum": 0,
    "memoryGiB": 256,
    "name": "ml.m5d.16xlarge",
    "vcpuNum": 64
   },
   {
    "_defaultOrder": 19,
    "_isFastLaunch": false,
    "category": "General purpose",
    "gpuNum": 0,
    "memoryGiB": 384,
    "name": "ml.m5d.24xlarge",
    "vcpuNum": 96
   },
   {
    "_defaultOrder": 20,
    "_isFastLaunch": true,
    "category": "Compute optimized",
    "gpuNum": 0,
    "memoryGiB": 4,
    "name": "ml.c5.large",
    "vcpuNum": 2
   },
   {
    "_defaultOrder": 21,
    "_isFastLaunch": false,
    "category": "Compute optimized",
    "gpuNum": 0,
    "memoryGiB": 8,
    "name": "ml.c5.xlarge",
    "vcpuNum": 4
   },
   {
    "_defaultOrder": 22,
    "_isFastLaunch": false,
    "category": "Compute optimized",
    "gpuNum": 0,
    "memoryGiB": 16,
    "name": "ml.c5.2xlarge",
    "vcpuNum": 8
   },
   {
    "_defaultOrder": 23,
    "_isFastLaunch": false,
    "category": "Compute optimized",
    "gpuNum": 0,
    "memoryGiB": 32,
    "name": "ml.c5.4xlarge",
    "vcpuNum": 16
   },
   {
    "_defaultOrder": 24,
    "_isFastLaunch": false,
    "category": "Compute optimized",
    "gpuNum": 0,
    "memoryGiB": 72,
    "name": "ml.c5.9xlarge",
    "vcpuNum": 36
   },
   {
    "_defaultOrder": 25,
    "_isFastLaunch": false,
    "category": "Compute optimized",
    "gpuNum": 0,
    "memoryGiB": 96,
    "name": "ml.c5.12xlarge",
    "vcpuNum": 48
   },
   {
    "_defaultOrder": 26,
    "_isFastLaunch": false,
    "category": "Compute optimized",
    "gpuNum": 0,
    "memoryGiB": 144,
    "name": "ml.c5.18xlarge",
    "vcpuNum": 72
   },
   {
    "_defaultOrder": 27,
    "_isFastLaunch": false,
    "category": "Compute optimized",
    "gpuNum": 0,
    "memoryGiB": 192,
    "name": "ml.c5.24xlarge",
    "vcpuNum": 96
   },
   {
    "_defaultOrder": 28,
    "_isFastLaunch": true,
    "category": "Accelerated computing",
    "gpuNum": 1,
    "memoryGiB": 16,
    "name": "ml.g4dn.xlarge",
    "vcpuNum": 4
   },
   {
    "_defaultOrder": 29,
    "_isFastLaunch": false,
    "category": "Accelerated computing",
    "gpuNum": 1,
    "memoryGiB": 32,
    "name": "ml.g4dn.2xlarge",
    "vcpuNum": 8
   },
   {
    "_defaultOrder": 30,
    "_isFastLaunch": false,
    "category": "Accelerated computing",
    "gpuNum": 1,
    "memoryGiB": 64,
    "name": "ml.g4dn.4xlarge",
    "vcpuNum": 16
   },
   {
    "_defaultOrder": 31,
    "_isFastLaunch": false,
    "category": "Accelerated computing",
    "gpuNum": 1,
    "memoryGiB": 128,
    "name": "ml.g4dn.8xlarge",
    "vcpuNum": 32
   },
   {
    "_defaultOrder": 32,
    "_isFastLaunch": false,
    "category": "Accelerated computing",
    "gpuNum": 4,
    "memoryGiB": 192,
    "name": "ml.g4dn.12xlarge",
    "vcpuNum": 48
   },
   {
    "_defaultOrder": 33,
    "_isFastLaunch": false,
    "category": "Accelerated computing",
    "gpuNum": 1,
    "memoryGiB": 256,
    "name": "ml.g4dn.16xlarge",
    "vcpuNum": 64
   },
   {
    "_defaultOrder": 34,
    "_isFastLaunch": false,
    "category": "Accelerated computing",
    "gpuNum": 1,
    "memoryGiB": 61,
    "name": "ml.p3.2xlarge",
    "vcpuNum": 8
   },
   {
    "_defaultOrder": 35,
    "_isFastLaunch": false,
    "category": "Accelerated computing",
    "gpuNum": 4,
    "memoryGiB": 244,
    "name": "ml.p3.8xlarge",
    "vcpuNum": 32
   },
   {
    "_defaultOrder": 36,
    "_isFastLaunch": false,
    "category": "Accelerated computing",
    "gpuNum": 8,
    "memoryGiB": 488,
    "name": "ml.p3.16xlarge",
    "vcpuNum": 64
   },
   {
    "_defaultOrder": 37,
    "_isFastLaunch": false,
    "category": "Accelerated computing",
    "gpuNum": 8,
    "memoryGiB": 768,
    "name": "ml.p3dn.24xlarge",
    "vcpuNum": 96
   },
   {
    "_defaultOrder": 38,
    "_isFastLaunch": false,
    "category": "Memory Optimized",
    "gpuNum": 0,
    "memoryGiB": 16,
    "name": "ml.r5.large",
    "vcpuNum": 2
   },
   {
    "_defaultOrder": 39,
    "_isFastLaunch": false,
    "category": "Memory Optimized",
    "gpuNum": 0,
    "memoryGiB": 32,
    "name": "ml.r5.xlarge",
    "vcpuNum": 4
   },
   {
    "_defaultOrder": 40,
    "_isFastLaunch": false,
    "category": "Memory Optimized",
    "gpuNum": 0,
    "memoryGiB": 64,
    "name": "ml.r5.2xlarge",
    "vcpuNum": 8
   },
   {
    "_defaultOrder": 41,
    "_isFastLaunch": false,
    "category": "Memory Optimized",
    "gpuNum": 0,
    "memoryGiB": 128,
    "name": "ml.r5.4xlarge",
    "vcpuNum": 16
   },
   {
    "_defaultOrder": 42,
    "_isFastLaunch": false,
    "category": "Memory Optimized",
    "gpuNum": 0,
    "memoryGiB": 256,
    "name": "ml.r5.8xlarge",
    "vcpuNum": 32
   },
   {
    "_defaultOrder": 43,
    "_isFastLaunch": false,
    "category": "Memory Optimized",
    "gpuNum": 0,
    "memoryGiB": 384,
    "name": "ml.r5.12xlarge",
    "vcpuNum": 48
   },
   {
    "_defaultOrder": 44,
    "_isFastLaunch": false,
    "category": "Memory Optimized",
    "gpuNum": 0,
    "memoryGiB": 512,
    "name": "ml.r5.16xlarge",
    "vcpuNum": 64
   },
   {
    "_defaultOrder": 45,
    "_isFastLaunch": false,
    "category": "Memory Optimized",
    "gpuNum": 0,
    "memoryGiB": 768,
    "name": "ml.r5.24xlarge",
    "vcpuNum": 96
   },
   {
    "_defaultOrder": 46,
    "_isFastLaunch": false,
    "category": "Accelerated computing",
    "gpuNum": 1,
    "memoryGiB": 16,
    "name": "ml.g5.xlarge",
    "vcpuNum": 4
   },
   {
    "_defaultOrder": 47,
    "_isFastLaunch": false,
    "category": "Accelerated computing",
    "gpuNum": 1,
    "memoryGiB": 32,
    "name": "ml.g5.2xlarge",
    "vcpuNum": 8
   },
   {
    "_defaultOrder": 48,
    "_isFastLaunch": false,
    "category": "Accelerated computing",
    "gpuNum": 1,
    "memoryGiB": 64,
    "name": "ml.g5.4xlarge",
    "vcpuNum": 16
   },
   {
    "_defaultOrder": 49,
    "_isFastLaunch": false,
    "category": "Accelerated computing",
    "gpuNum": 1,
    "memoryGiB": 128,
    "name": "ml.g5.8xlarge",
    "vcpuNum": 32
   },
   {
    "_defaultOrder": 50,
    "_isFastLaunch": false,
    "category": "Accelerated computing",
    "gpuNum": 1,
    "memoryGiB": 256,
    "name": "ml.g5.16xlarge",
    "vcpuNum": 64
   },
   {
    "_defaultOrder": 51,
    "_isFastLaunch": false,
    "category": "Accelerated computing",
    "gpuNum": 4,
    "memoryGiB": 192,
    "name": "ml.g5.12xlarge",
    "vcpuNum": 48
   },
   {
    "_defaultOrder": 52,
    "_isFastLaunch": false,
    "category": "Accelerated computing",
    "gpuNum": 4,
    "memoryGiB": 384,
    "name": "ml.g5.24xlarge",
    "vcpuNum": 96
   },
   {
    "_defaultOrder": 53,
    "_isFastLaunch": false,
    "category": "Accelerated computing",
    "gpuNum": 8,
    "memoryGiB": 768,
    "name": "ml.g5.48xlarge",
    "vcpuNum": 192
   }
  ],
  "instance_type": "ml.t3.medium",
  "kernelspec": {
   "display_name": "Python 3 (PyTorch 1.12 Python 3.8 CPU Optimized)",
   "language": "python",
   "name": "python3__SAGEMAKER_INTERNAL__arn:aws:sagemaker:us-east-1:081325390199:image/pytorch-1.12-cpu-py38"
  },
  "language_info": {
   "codemirror_mode": {
    "name": "ipython",
    "version": 3
   },
   "file_extension": ".py",
   "mimetype": "text/x-python",
   "name": "python",
   "nbconvert_exporter": "python",
   "pygments_lexer": "ipython3",
   "version": "3.8.16"
  },
  "vscode": {
   "interpreter": {
    "hash": "5ab638aa00986aa0e6a7cdada5cec29e56efe27f3c426a028b4e96530cb216ba"
   }
  }
 },
 "nbformat": 4,
 "nbformat_minor": 5
}

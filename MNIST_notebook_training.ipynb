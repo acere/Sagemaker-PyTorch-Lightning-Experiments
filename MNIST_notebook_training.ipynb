{
 "cells": [
  {
   "attachments": {},
   "cell_type": "markdown",
   "id": "eb95344c",
   "metadata": {},
   "source": [
    "# MNIST - notebook training\n",
    "\n",
    "\n",
    "Train a MNIST classification model created using Pytorch Lightning and logging the training, validation, and test metrics using Amazon SageMaker Experiments.\n",
    "\n",
    "\n",
    "---\n",
    "This notebook has been designed to work in Amazon SageMaker Studio with `Python 3 (PyTorch 1.12 Python 3.8 CPU Optimized)`, and tested to also work with `Python 3 (PyTorch 1.12 Python 3.8 GPU Optimized)`.\n",
    "\n",
    "---"
   ]
  },
  {
   "cell_type": "code",
   "execution_count": null,
   "id": "3000102a-d8cd-4c21-b892-d43cec928337",
   "metadata": {
    "tags": []
   },
   "outputs": [],
   "source": [
    "import os\n",
    "from code.data_modules import MNISTDataModule\n",
    "from code.models import MNISTModel\n",
    "from code.sm_experiments import SmLogger\n",
    "\n",
    "import pytorch_lightning as pl\n",
    "from pytorch_lightning.callbacks import TQDMProgressBar\n",
    "from sagemaker.experiments import Run\n",
    "from sagemaker.utils import name_from_base\n",
    "from tqdm import tqdm"
   ]
  },
  {
   "cell_type": "code",
   "execution_count": null,
   "id": "a7fab563-7fd0-47e9-bb46-9d589fd5feb4",
   "metadata": {
    "tags": []
   },
   "outputs": [],
   "source": [
    "# workaround to avoid a problem with the progress bar with validation step\n",
    "class LitProgressBar(TQDMProgressBar):\n",
    "    def init_validation_tqdm(self):\n",
    "        bar = tqdm(disable=True)\n",
    "        return bar"
   ]
  },
  {
   "attachments": {},
   "cell_type": "markdown",
   "id": "c06ec4f3",
   "metadata": {},
   "source": [
    "## Model and Dataloader definition"
   ]
  },
  {
   "attachments": {},
   "cell_type": "markdown",
   "id": "c831513e",
   "metadata": {},
   "source": [
    "The Model and DataModule are defined in the `mnist_pl.py` and `data_modules.py` scripts in the `code` folder."
   ]
  },
  {
   "cell_type": "code",
   "execution_count": null,
   "id": "f1d1628c-5138-49cf-8266-8597b24edd1d",
   "metadata": {
    "tags": []
   },
   "outputs": [],
   "source": [
    "model = MNISTModel()\n",
    "dm = MNISTDataModule(\n",
    "    train=\"data\",\n",
    "    test=\"data\",\n",
    "    batch_size=32,\n",
    "    test_batch_size=500,\n",
    "    validation_fraction=0.1,\n",
    "    num_workers=int(os.cpu_count()),  # type: ignore\n",
    ")"
   ]
  },
  {
   "attachments": {},
   "cell_type": "markdown",
   "id": "79c559dc",
   "metadata": {},
   "source": [
    "## Training with SageMaker Experiments logging\n",
    "\n",
    "To simplify the logging of the metrics and artifacts to [SageMaker Experiments](https://docs.aws.amazon.com/sagemaker/latest/dg/experiments.html) within the Lightning training look, there's a Lightning [Logger](https://pytorch-lightning.readthedocs.io/en/latest/extensions/logging.html#make-a-custom-logger) in `code/sm_experiments.py`."
   ]
  },
  {
   "cell_type": "code",
   "execution_count": null,
   "id": "f63ecd24-8b70-4e1e-8703-d07fa9ba55c7",
   "metadata": {
    "tags": []
   },
   "outputs": [],
   "source": [
    "experiment_name = \"pytorch-demo-mnist\"\n",
    "run_name_base = \"nb-training\""
   ]
  },
  {
   "cell_type": "code",
   "execution_count": null,
   "id": "42233a55",
   "metadata": {},
   "outputs": [],
   "source": [
    "with Run(\n",
    "    experiment_name=experiment_name,\n",
    "    run_name=name_from_base(run_name_base),\n",
    ") as run:\n",
    "    sm_logger = SmLogger(run)\n",
    "    trainer = pl.Trainer(\n",
    "        max_epochs=20,\n",
    "        default_root_dir=\"model\",  # Save the model to a local folder\n",
    "        callbacks=[LitProgressBar()],\n",
    "        logger=sm_logger,\n",
    "    )\n",
    "    trainer.fit(model, dm)\n",
    "    trainer.test(model, dm)"
   ]
  }
 ],
 "metadata": {
  "instance_type": "ml.t3.medium",
  "kernelspec": {
   "display_name": "Python 3",
   "language": "python",
   "name": "python3"
  },
  "language_info": {
   "codemirror_mode": {
    "name": "ipython",
    "version": 3
   },
   "file_extension": ".py",
   "mimetype": "text/x-python",
   "name": "python",
   "nbconvert_exporter": "python",
   "pygments_lexer": "ipython3",
   "version": "3.8.12 (default, Dec 14 2021, 09:47:55) \n[Clang 13.0.0 (clang-1300.0.29.30)]"
  },
  "vscode": {
   "interpreter": {
    "hash": "0c0219f99e68d836eb9e7f1eb9352b6c738a1861db09c1ff15c58563a17f073f"
   }
  }
 },
 "nbformat": 4,
 "nbformat_minor": 5
}

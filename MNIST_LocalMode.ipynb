{
 "cells": [
  {
   "attachments": {},
   "cell_type": "markdown",
   "id": "6ac8ea04",
   "metadata": {},
   "source": [
    "# MNIST Lightning training - LocalMode\n",
    "\n",
    "Train a simple Pytorch model using [Pytorch Lightning](https://pytorch-lightning.readthedocs.io/en/latest/) and [Amazon SageMaker local mode](https://sagemaker.readthedocs.io/en/stable/overview.html#local-mode).\n",
    "\n",
    "---\n",
    "\n",
    "This notebook requires [Docker Compose](https://docs.docker.com/compose/), it won't work in Amazon SageMaker Studio.\n",
    "\n",
    "---\n",
    " This notebook trains a MNIST classification model on your local machine using the SageMaker Pytorch Docker image. Using local mode it is not possible to use SageMaker Experiments."
   ]
  },
  {
   "cell_type": "code",
   "execution_count": null,
   "id": "2284686f-61a4-4f0c-8f6a-126daa922030",
   "metadata": {},
   "outputs": [],
   "source": [
    "from pathlib import Path\n",
    "\n",
    "import sagemaker\n",
    "from sagemaker.pytorch import PyTorch\n",
    "from sagemaker.utils import name_from_base"
   ]
  },
  {
   "attachments": {},
   "cell_type": "markdown",
   "id": "426d08d0",
   "metadata": {},
   "source": [
    "Definitions and objects necessary for running the Training Job in LocalMode."
   ]
  },
  {
   "cell_type": "code",
   "execution_count": null,
   "id": "33c5b93b",
   "metadata": {},
   "outputs": [],
   "source": [
    "local_session = sagemaker.LocalSession()\n",
    "local_session.config = {'local': {'local_code': True}}\n",
    "role = sagemaker.get_execution_role()"
   ]
  },
  {
   "attachments": {},
   "cell_type": "markdown",
   "id": "53785952",
   "metadata": {},
   "source": [
    "Create a local folder to store the model and the output from training in LocalMode."
   ]
  },
  {
   "cell_type": "code",
   "execution_count": null,
   "id": "0f05380b",
   "metadata": {},
   "outputs": [],
   "source": [
    "Path('model').mkdir(exist_ok=True)"
   ]
  },
  {
   "attachments": {},
   "cell_type": "markdown",
   "id": "2ea749d8",
   "metadata": {},
   "source": [
    "## Training"
   ]
  },
  {
   "cell_type": "code",
   "execution_count": null,
   "id": "2bb92f5c-4d8a-4ebe-95de-f49e7ebf1ef5",
   "metadata": {},
   "outputs": [],
   "source": [
    "\n",
    "estimator = PyTorch(\n",
    "    entry_point=\"mnist_pl.py\",\n",
    "    base_job_name=\"lightning-mnist\",\n",
    "    role=role,\n",
    "    source_dir=\"code\",\n",
    "    output_path=\"file://model/\",\n",
    "    instance_count=1,\n",
    "    instance_type=\"local\",\n",
    "    py_version=\"py38\",\n",
    "    framework_version=\"1.12.1\",\n",
    "    sagemaker_session=local_session,\n",
    "    debugger_hook_config=False,\n",
    "    hyperparameters={\"batch_size\": 32, \"epochs\": 2},  # type: ignore\n",
    ")\n",
    "\n",
    "estimator.fit(wait=True)"
   ]
  },
  {
   "attachments": {},
   "cell_type": "markdown",
   "id": "8a532eb7",
   "metadata": {},
   "source": [
    "#ToDo add plots from CSV logger\n"
   ]
  },
  {
   "cell_type": "markdown",
   "id": "6aad8fa2",
   "metadata": {},
   "source": []
  }
 ],
 "metadata": {
  "kernelspec": {
   "display_name": "Python 3",
   "language": "python",
   "name": "python3"
  },
  "language_info": {
   "codemirror_mode": {
    "name": "ipython",
    "version": 3
   },
   "file_extension": ".py",
   "mimetype": "text/x-python",
   "name": "python",
   "nbconvert_exporter": "python",
   "pygments_lexer": "ipython3",
   "version": "3.8.12 (default, Dec 14 2021, 09:47:55) \n[Clang 13.0.0 (clang-1300.0.29.30)]"
  },
  "vscode": {
   "interpreter": {
    "hash": "0c0219f99e68d836eb9e7f1eb9352b6c738a1861db09c1ff15c58563a17f073f"
   }
  }
 },
 "nbformat": 4,
 "nbformat_minor": 5
}
